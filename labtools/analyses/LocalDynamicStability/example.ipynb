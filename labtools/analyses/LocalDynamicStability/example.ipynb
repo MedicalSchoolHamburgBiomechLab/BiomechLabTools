{
 "cells": [
  {
   "cell_type": "markdown",
   "source": [
    "### Example of how to use the LDSAnalysis class\n",
    "(tested on Windows 10 with Python v3.10)"
   ],
   "metadata": {
    "collapsed": false
   }
  },
  {
   "cell_type": "code",
   "execution_count": null,
   "outputs": [],
   "source": [
    "from pathlib import Path\n",
    "from dotenv import load_dotenv\n",
    "import os\n",
    "\n",
    "from analysis import LDSAnalysis\n",
    "from plotting import plot_divergence_curves\n",
    "\n",
    "load_dotenv('.env')  # Make sure this exists and has the correct path to the data 'PATH_DATA_ROOT'"
   ],
   "metadata": {
    "collapsed": false
   }
  },
  {
   "cell_type": "markdown",
   "source": [
    "#### Data must be structured as follows:\n",
    "PATH_DATA_ROOT\n",
    "├── P001\n",
    "│   ├── PRE\n",
    "│   │   ├── foot_right.csv\n",
    "│   │   ├── thigh_left.csv\n",
    "│   │   ├── ...\n",
    "│   ├── POST\n",
    "│   │   ├── foot_right.csv\n",
    "│   │   ├── ...\n",
    "├── P002\n",
    "│   ├── ...\n",
    "\n",
    "#### Files must be structured as follows:\n",
    "- The data files must be in CSV format\n",
    "- 3 columns: 'x', 'y', 'z' for the gyroscope data\n",
    "- The first row must be the header (column names)\n",
    "- The next 10,000 rows are the data points\n",
    "- The data points are 100 consecutive strides, resampled to 10,000 data points"
   ],
   "metadata": {
    "collapsed": false
   }
  },
  {
   "cell_type": "code",
   "execution_count": null,
   "outputs": [],
   "source": [
    "PATH_DATA_ROOT = os.environ.get('PATH_DATA_ROOT')\n",
    "if PATH_DATA_ROOT is None:\n",
    "    raise ValueError(\"The PATH_DATA_ROOT environment variable must be set.\")\n",
    "path_data_in = Path(PATH_DATA_ROOT).joinpath('processed')\n",
    "path_data_out = Path(PATH_DATA_ROOT).joinpath('analysis')"
   ],
   "metadata": {
    "collapsed": false
   }
  },
  {
   "cell_type": "code",
   "execution_count": null,
   "outputs": [],
   "source": [
    "sensor_location = 'foot_right'"
   ],
   "metadata": {
    "collapsed": false
   }
  },
  {
   "cell_type": "code",
   "execution_count": null,
   "outputs": [],
   "source": [
    "analysis = LDSAnalysis(path_data_in=path_data_in,\n",
    "                       path_data_out=path_data_out,\n",
    "                       sensor_location=sensor_location)"
   ],
   "metadata": {
    "collapsed": false
   }
  },
  {
   "cell_type": "markdown",
   "source": [
    "#### Print a summary of the analysis object"
   ],
   "metadata": {
    "collapsed": false
   }
  },
  {
   "cell_type": "code",
   "execution_count": null,
   "outputs": [],
   "source": [
    "analysis.summary()"
   ],
   "metadata": {
    "collapsed": false
   }
  },
  {
   "cell_type": "markdown",
   "source": [
    "Store the signal data in a pandas DataFrame (pickle file) for time efficiency.\n",
    "This is automatically done when running the successive steps of the analysis."
   ],
   "metadata": {
    "collapsed": false
   }
  },
  {
   "cell_type": "code",
   "execution_count": null,
   "outputs": [],
   "source": [
    "analysis.make_signals()"
   ],
   "metadata": {
    "collapsed": false
   }
  },
  {
   "cell_type": "markdown",
   "source": [
    "Compute the time delay for the signal data based on the minimum of the average mutual information. The results for all trials are stored in the `time_delays` (pandas.DataFrame) property of the analysis object."
   ],
   "metadata": {
    "collapsed": false
   }
  },
  {
   "cell_type": "code",
   "execution_count": null,
   "outputs": [],
   "source": [
    "analysis.compute_time_delays()  # trigger the computation of the time delay\n",
    "analysis.time_delay_summary()  # print a summary for reporting and debugging\n",
    "tau = analysis.time_delay  # gets the average time delay over all participants, conditions, and axes\n",
    "print(f'{tau=}')"
   ],
   "metadata": {
    "collapsed": false
   }
  },
  {
   "cell_type": "markdown",
   "source": [
    "Compute the embedding dimension for the signal data with the given time delay. If the call to `compute_time_delays` wasn't made, it's automatically performed by this method. The results for all trials are stored in the `embedding_dimensions` (pandas.DataFrame) property of the analysis object."
   ],
   "metadata": {
    "collapsed": false
   }
  },
  {
   "cell_type": "code",
   "execution_count": null,
   "outputs": [],
   "source": [
    "analysis.compute_embedding_dimensions()  # trigger the computation of the embedding dimension\n",
    "analysis.embedding_dimension_summary()  # print a summary for reporting and debugging\n",
    "dE = analysis.embedding_dimension  # gets the maximum embedding dimension over all participants and conditions\n",
    "print(f'{dE=}')"
   ],
   "metadata": {
    "collapsed": false
   }
  },
  {
   "cell_type": "markdown",
   "source": [
    "Reconstruct the state spaces of the signals given the computed time delay and embedding dimension. If the calls to `compute_time_delays` and `compute_embedding_dimensions` weren't made, they're automatically performed by this method. The results for all trials are stored in the `state_spaces` (pandas.DataFrame) property of the analysis object."
   ],
   "metadata": {
    "collapsed": false
   }
  },
  {
   "cell_type": "code",
   "execution_count": null,
   "outputs": [],
   "source": [
    "analysis.compute_state_spaces()  # trigger the computation of the state spaces\n",
    "state_spaces = analysis.state_spaces  # gets the state spaces for all participants and conditions"
   ],
   "metadata": {
    "collapsed": false
   }
  },
  {
   "cell_type": "markdown",
   "source": [
    "Compute the divergence curves for the state spaces. Automatically performs the previous steps if they weren't already done. The results for all trials are stored in the `divergence_curves` (pandas.DataFrame) property of the analysis object."
   ],
   "metadata": {
    "collapsed": false
   }
  },
  {
   "cell_type": "code",
   "execution_count": null,
   "outputs": [],
   "source": [
    "analysis.compute_divergence_curves()  # trigger the computation of the divergence curves\n",
    "divergence_curves = analysis.divergence_curves  # gets the divergence curves for all participants and conditions"
   ],
   "metadata": {
    "collapsed": false
   }
  },
  {
   "cell_type": "markdown",
   "source": [
    "Use the divergence curves object and pass it to the  for the state spaces. The plot is saved in the `path_data_out` directory."
   ],
   "metadata": {
    "collapsed": false
   }
  },
  {
   "cell_type": "code",
   "execution_count": null,
   "outputs": [],
   "source": [
    "plot_divergence_curves(divergence_curves=analysis.divergence_curves,\n",
    "                       path_data_out=analysis.path_data_out,\n",
    "                       location_string=analysis.sensor_location)"
   ],
   "metadata": {
    "collapsed": false
   }
  },
  {
   "cell_type": "markdown",
   "source": [
    "Detect the region of rapid divergence and determine the number of sample to fit the line through for the LDS. Then set it via the `set_fit_interval()` method. Now, the maximum divergence exponent can be computed. The results are automatically saved in an excel file."
   ],
   "metadata": {
    "collapsed": false
   }
  },
  {
   "cell_type": "code",
   "execution_count": null,
   "outputs": [],
   "source": [
    "analysis.set_fit_interval(end=30)  # start=0 per default\n",
    "analysis.compute_divergence_exponents()\n",
    "print(analysis.divergence_exponents.head())"
   ],
   "metadata": {
    "collapsed": false
   }
  }
 ],
 "metadata": {
  "kernelspec": {
   "display_name": "Python 3",
   "language": "python",
   "name": "python3"
  },
  "language_info": {
   "codemirror_mode": {
    "name": "ipython",
    "version": 2
   },
   "file_extension": ".py",
   "mimetype": "text/x-python",
   "name": "python",
   "nbconvert_exporter": "python",
   "pygments_lexer": "ipython2",
   "version": "2.7.6"
  }
 },
 "nbformat": 4,
 "nbformat_minor": 0
}
